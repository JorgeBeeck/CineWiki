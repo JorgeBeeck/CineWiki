{
  "nbformat": 4,
  "nbformat_minor": 0,
  "metadata": {
    "colab": {
      "name": "Untitled10.ipynb",
      "provenance": [],
      "authorship_tag": "ABX9TyMxg7H9fDX+KwR5pOpc0vLI",
      "include_colab_link": true
    },
    "kernelspec": {
      "name": "python3",
      "display_name": "Python 3"
    },
    "language_info": {
      "name": "python"
    }
  },
  "cells": [
    {
      "cell_type": "markdown",
      "metadata": {
        "id": "view-in-github",
        "colab_type": "text"
      },
      "source": [
        "<a href=\"https://colab.research.google.com/github/JorgeBeeck/CineWiki/blob/master/Untitled10.ipynb\" target=\"_parent\"><img src=\"https://colab.research.google.com/assets/colab-badge.svg\" alt=\"Open In Colab\"/></a>"
      ]
    },
    {
      "cell_type": "code",
      "metadata": {
        "colab": {
          "base_uri": "https://localhost:8080/"
        },
        "id": "Tz-WSKlRVBTF",
        "outputId": "2e8a1fde-a788-4946-eaab-d89413f4449e"
      },
      "source": [
        "class Usuario():\n",
        "  _nomeUsuario = \"\"\n",
        "  def settNomeUsuario(self, nomeUsuario):\n",
        "    self._nomeUsuario = nomeUsuario\n",
        "  def getNomeUsuario(self):\n",
        "    return self._nomeUsuario\n",
        "class Admin(Usuario):\n",
        "  def escrevaNome(self):\n",
        "    return \"ADM\"\n",
        "  def digaOla(self):\n",
        "    return \"Ola ADM, \"+ self.getNomeUsuario()\n",
        "admin1 = Admin()\n",
        "admin1.settNomeUsuario(\"Baltazar\")\n",
        "print(admin1.digaOla())\n"
      ],
      "execution_count": 1,
      "outputs": [
        {
          "output_type": "stream",
          "text": [
            "Ola ADM, Baltazar\n"
          ],
          "name": "stdout"
        }
      ]
    }
  ]
}